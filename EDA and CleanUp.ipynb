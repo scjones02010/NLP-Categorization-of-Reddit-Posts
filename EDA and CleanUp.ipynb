{
 "cells": [
  {
   "cell_type": "code",
   "execution_count": 1,
   "metadata": {},
   "outputs": [],
   "source": [
    "#import items for cleaning"
   ]
  },
  {
   "cell_type": "code",
   "execution_count": 2,
   "metadata": {},
   "outputs": [],
   "source": [
    "import pandas as pd\n",
    "import numpy as np\n",
    "from nltk.sentiment.vader import SentimentIntensityAnalyzer\n",
    "import matplotlib.pyplot as plt\n",
    "import seaborn as sns"
   ]
  },
  {
   "cell_type": "code",
   "execution_count": 3,
   "metadata": {},
   "outputs": [],
   "source": [
    "dems_reddit=pd.read_csv('Dems Reddit 10-14-19.csv',index_col='Unnamed: 0')"
   ]
  },
  {
   "cell_type": "code",
   "execution_count": 4,
   "metadata": {},
   "outputs": [],
   "source": [
    "reps_reddit=pd.read_csv('Reps Reddit 10-14-19.csv',index_col='Unnamed: 0')"
   ]
  },
  {
   "cell_type": "code",
   "execution_count": 5,
   "metadata": {},
   "outputs": [],
   "source": [
    "#Change columns and add markers"
   ]
  },
  {
   "cell_type": "code",
   "execution_count": 6,
   "metadata": {},
   "outputs": [
    {
     "data": {
      "text/html": [
       "<div>\n",
       "<style scoped>\n",
       "    .dataframe tbody tr th:only-of-type {\n",
       "        vertical-align: middle;\n",
       "    }\n",
       "\n",
       "    .dataframe tbody tr th {\n",
       "        vertical-align: top;\n",
       "    }\n",
       "\n",
       "    .dataframe thead th {\n",
       "        text-align: right;\n",
       "    }\n",
       "</style>\n",
       "<table border=\"1\" class=\"dataframe\">\n",
       "  <thead>\n",
       "    <tr style=\"text-align: right;\">\n",
       "      <th></th>\n",
       "      <th>titles</th>\n",
       "      <th>marker</th>\n",
       "    </tr>\n",
       "  </thead>\n",
       "  <tbody>\n",
       "    <tr>\n",
       "      <td>0</td>\n",
       "      <td>Trump is now at war with polling and statistic...</td>\n",
       "      <td>D</td>\n",
       "    </tr>\n",
       "    <tr>\n",
       "      <td>1</td>\n",
       "      <td>The 1,000 elite US troops in Syria are making ...</td>\n",
       "      <td>D</td>\n",
       "    </tr>\n",
       "    <tr>\n",
       "      <td>2</td>\n",
       "      <td>Inside Trump’s Botched Attempt to Hire Trey Go...</td>\n",
       "      <td>D</td>\n",
       "    </tr>\n",
       "    <tr>\n",
       "      <td>3</td>\n",
       "      <td>Can we talk about the blatant hypocrisy of Lin...</td>\n",
       "      <td>D</td>\n",
       "    </tr>\n",
       "    <tr>\n",
       "      <td>4</td>\n",
       "      <td>'I'm standing here in the middle of climate ch...</td>\n",
       "      <td>D</td>\n",
       "    </tr>\n",
       "  </tbody>\n",
       "</table>\n",
       "</div>"
      ],
      "text/plain": [
       "                                              titles marker\n",
       "0  Trump is now at war with polling and statistic...      D\n",
       "1  The 1,000 elite US troops in Syria are making ...      D\n",
       "2  Inside Trump’s Botched Attempt to Hire Trey Go...      D\n",
       "3  Can we talk about the blatant hypocrisy of Lin...      D\n",
       "4  'I'm standing here in the middle of climate ch...      D"
      ]
     },
     "execution_count": 6,
     "metadata": {},
     "output_type": "execute_result"
    }
   ],
   "source": [
    "dems_reddit.rename(columns={'Dems Titles':'titles'},inplace=True)\n",
    "dems_reddit['marker']='D'\n",
    "dems_reddit.head()"
   ]
  },
  {
   "cell_type": "code",
   "execution_count": 7,
   "metadata": {},
   "outputs": [
    {
     "data": {
      "text/html": [
       "<div>\n",
       "<style scoped>\n",
       "    .dataframe tbody tr th:only-of-type {\n",
       "        vertical-align: middle;\n",
       "    }\n",
       "\n",
       "    .dataframe tbody tr th {\n",
       "        vertical-align: top;\n",
       "    }\n",
       "\n",
       "    .dataframe thead th {\n",
       "        text-align: right;\n",
       "    }\n",
       "</style>\n",
       "<table border=\"1\" class=\"dataframe\">\n",
       "  <thead>\n",
       "    <tr style=\"text-align: right;\">\n",
       "      <th></th>\n",
       "      <th>titles</th>\n",
       "      <th>marker</th>\n",
       "    </tr>\n",
       "  </thead>\n",
       "  <tbody>\n",
       "    <tr>\n",
       "      <td>0</td>\n",
       "      <td>Hong Kong protestors burn Lebron Jerseys. Grea...</td>\n",
       "      <td>R</td>\n",
       "    </tr>\n",
       "    <tr>\n",
       "      <td>1</td>\n",
       "      <td>Sasse slams LeBron James: 'You're parroting co...</td>\n",
       "      <td>R</td>\n",
       "    </tr>\n",
       "    <tr>\n",
       "      <td>2</td>\n",
       "      <td>Asked to Condemn Ilhan Omar, Dem Congressman C...</td>\n",
       "      <td>R</td>\n",
       "    </tr>\n",
       "    <tr>\n",
       "      <td>3</td>\n",
       "      <td>Turkish-Born Celtics Player RIPS LeBron Over C...</td>\n",
       "      <td>R</td>\n",
       "    </tr>\n",
       "    <tr>\n",
       "      <td>4</td>\n",
       "      <td>Ukrainian Lawmaker Says Joe Biden Took $900k f...</td>\n",
       "      <td>R</td>\n",
       "    </tr>\n",
       "  </tbody>\n",
       "</table>\n",
       "</div>"
      ],
      "text/plain": [
       "                                              titles marker\n",
       "0  Hong Kong protestors burn Lebron Jerseys. Grea...      R\n",
       "1  Sasse slams LeBron James: 'You're parroting co...      R\n",
       "2  Asked to Condemn Ilhan Omar, Dem Congressman C...      R\n",
       "3  Turkish-Born Celtics Player RIPS LeBron Over C...      R\n",
       "4  Ukrainian Lawmaker Says Joe Biden Took $900k f...      R"
      ]
     },
     "execution_count": 7,
     "metadata": {},
     "output_type": "execute_result"
    }
   ],
   "source": [
    "reps_reddit.rename(columns={'Republican Titles':'titles'},inplace=True)\n",
    "reps_reddit['marker']='R'\n",
    "reps_reddit.head()"
   ]
  },
  {
   "cell_type": "code",
   "execution_count": 8,
   "metadata": {},
   "outputs": [],
   "source": [
    "#check for nulls and nas"
   ]
  },
  {
   "cell_type": "code",
   "execution_count": 9,
   "metadata": {},
   "outputs": [
    {
     "data": {
      "text/plain": [
       "(991, 2)"
      ]
     },
     "execution_count": 9,
     "metadata": {},
     "output_type": "execute_result"
    }
   ],
   "source": [
    "dems_reddit.shape"
   ]
  },
  {
   "cell_type": "code",
   "execution_count": 10,
   "metadata": {},
   "outputs": [
    {
     "data": {
      "text/plain": [
       "titles    0\n",
       "marker    0\n",
       "dtype: int64"
      ]
     },
     "execution_count": 10,
     "metadata": {},
     "output_type": "execute_result"
    }
   ],
   "source": [
    "dems_reddit.isnull().sum()"
   ]
  },
  {
   "cell_type": "code",
   "execution_count": 11,
   "metadata": {},
   "outputs": [
    {
     "data": {
      "text/plain": [
       "titles    0\n",
       "marker    0\n",
       "dtype: int64"
      ]
     },
     "execution_count": 11,
     "metadata": {},
     "output_type": "execute_result"
    }
   ],
   "source": [
    "dems_reddit.isna().sum()"
   ]
  },
  {
   "cell_type": "code",
   "execution_count": 12,
   "metadata": {},
   "outputs": [
    {
     "data": {
      "text/plain": [
       "(476, 2)"
      ]
     },
     "execution_count": 12,
     "metadata": {},
     "output_type": "execute_result"
    }
   ],
   "source": [
    "reps_reddit.shape"
   ]
  },
  {
   "cell_type": "code",
   "execution_count": 13,
   "metadata": {},
   "outputs": [
    {
     "data": {
      "text/plain": [
       "titles    0\n",
       "marker    0\n",
       "dtype: int64"
      ]
     },
     "execution_count": 13,
     "metadata": {},
     "output_type": "execute_result"
    }
   ],
   "source": [
    "reps_reddit.isnull().sum()"
   ]
  },
  {
   "cell_type": "code",
   "execution_count": 14,
   "metadata": {},
   "outputs": [
    {
     "data": {
      "text/plain": [
       "titles    0\n",
       "marker    0\n",
       "dtype: int64"
      ]
     },
     "execution_count": 14,
     "metadata": {},
     "output_type": "execute_result"
    }
   ],
   "source": [
    "reps_reddit.isna().sum()"
   ]
  },
  {
   "cell_type": "code",
   "execution_count": 15,
   "metadata": {},
   "outputs": [],
   "source": [
    "#merge both reddits for analysis and clean for any additional migration errors"
   ]
  },
  {
   "cell_type": "code",
   "execution_count": 16,
   "metadata": {},
   "outputs": [],
   "source": [
    "politics_reddit=pd.concat([reps_reddit,dems_reddit],axis=0)"
   ]
  },
  {
   "cell_type": "code",
   "execution_count": 17,
   "metadata": {},
   "outputs": [
    {
     "data": {
      "text/html": [
       "<div>\n",
       "<style scoped>\n",
       "    .dataframe tbody tr th:only-of-type {\n",
       "        vertical-align: middle;\n",
       "    }\n",
       "\n",
       "    .dataframe tbody tr th {\n",
       "        vertical-align: top;\n",
       "    }\n",
       "\n",
       "    .dataframe thead th {\n",
       "        text-align: right;\n",
       "    }\n",
       "</style>\n",
       "<table border=\"1\" class=\"dataframe\">\n",
       "  <thead>\n",
       "    <tr style=\"text-align: right;\">\n",
       "      <th></th>\n",
       "      <th>titles</th>\n",
       "      <th>marker</th>\n",
       "    </tr>\n",
       "  </thead>\n",
       "  <tbody>\n",
       "    <tr>\n",
       "      <td>446</td>\n",
       "      <td>The CrowdStrike Plot: How a Fringe Theory Took...</td>\n",
       "      <td>D</td>\n",
       "    </tr>\n",
       "    <tr>\n",
       "      <td>396</td>\n",
       "      <td>President of Finland records a video saying he...</td>\n",
       "      <td>D</td>\n",
       "    </tr>\n",
       "    <tr>\n",
       "      <td>60</td>\n",
       "      <td>Never in my 12 years in the Navy did we ever p...</td>\n",
       "      <td>D</td>\n",
       "    </tr>\n",
       "    <tr>\n",
       "      <td>197</td>\n",
       "      <td>Rudy’s Ukraine Henchmen Arrested on Campaign F...</td>\n",
       "      <td>D</td>\n",
       "    </tr>\n",
       "    <tr>\n",
       "      <td>272</td>\n",
       "      <td>Joe Biden Gun-Control Plan: A Constitutional a...</td>\n",
       "      <td>R</td>\n",
       "    </tr>\n",
       "    <tr>\n",
       "      <td>418</td>\n",
       "      <td>Remember when republicans did this same shit t...</td>\n",
       "      <td>D</td>\n",
       "    </tr>\n",
       "    <tr>\n",
       "      <td>44</td>\n",
       "      <td>Sen Boxer: Note to tyrants: Just ask Trump. Wa...</td>\n",
       "      <td>D</td>\n",
       "    </tr>\n",
       "    <tr>\n",
       "      <td>871</td>\n",
       "      <td>‘Seismic change’: Democratic hold-outs rush to...</td>\n",
       "      <td>D</td>\n",
       "    </tr>\n",
       "    <tr>\n",
       "      <td>570</td>\n",
       "      <td>Former Ukraine prosecutor says he saw no evide...</td>\n",
       "      <td>D</td>\n",
       "    </tr>\n",
       "    <tr>\n",
       "      <td>79</td>\n",
       "      <td>Trump mocks Bernie Sanders for having a heart ...</td>\n",
       "      <td>D</td>\n",
       "    </tr>\n",
       "    <tr>\n",
       "      <td>218</td>\n",
       "      <td>AOC pushes national rent control, welfare for ...</td>\n",
       "      <td>R</td>\n",
       "    </tr>\n",
       "    <tr>\n",
       "      <td>455</td>\n",
       "      <td>Thunberg throws a tantrum. Honestly believes t...</td>\n",
       "      <td>R</td>\n",
       "    </tr>\n",
       "    <tr>\n",
       "      <td>27</td>\n",
       "      <td>Mike Bloomberg signals he would run if Biden s...</td>\n",
       "      <td>D</td>\n",
       "    </tr>\n",
       "    <tr>\n",
       "      <td>311</td>\n",
       "      <td>Bring On the Biggest Nothingburger of Them All</td>\n",
       "      <td>R</td>\n",
       "    </tr>\n",
       "    <tr>\n",
       "      <td>294</td>\n",
       "      <td>Attorney General Bill Barr -- Do Republicans S...</td>\n",
       "      <td>R</td>\n",
       "    </tr>\n",
       "    <tr>\n",
       "      <td>261</td>\n",
       "      <td>Bernie Sanders Should Be Grateful We Don’t Hav...</td>\n",
       "      <td>R</td>\n",
       "    </tr>\n",
       "    <tr>\n",
       "      <td>394</td>\n",
       "      <td>Treaty Between the United States of America an...</td>\n",
       "      <td>R</td>\n",
       "    </tr>\n",
       "    <tr>\n",
       "      <td>131</td>\n",
       "      <td>2020 Presidential Debate to be held at Notre Dame</td>\n",
       "      <td>D</td>\n",
       "    </tr>\n",
       "    <tr>\n",
       "      <td>736</td>\n",
       "      <td>Clinton predicts 'illegitimate president' Trum...</td>\n",
       "      <td>D</td>\n",
       "    </tr>\n",
       "    <tr>\n",
       "      <td>313</td>\n",
       "      <td>Alaska Institutes Opt-In Unions</td>\n",
       "      <td>R</td>\n",
       "    </tr>\n",
       "  </tbody>\n",
       "</table>\n",
       "</div>"
      ],
      "text/plain": [
       "                                                titles marker\n",
       "446  The CrowdStrike Plot: How a Fringe Theory Took...      D\n",
       "396  President of Finland records a video saying he...      D\n",
       "60   Never in my 12 years in the Navy did we ever p...      D\n",
       "197  Rudy’s Ukraine Henchmen Arrested on Campaign F...      D\n",
       "272  Joe Biden Gun-Control Plan: A Constitutional a...      R\n",
       "418  Remember when republicans did this same shit t...      D\n",
       "44   Sen Boxer: Note to tyrants: Just ask Trump. Wa...      D\n",
       "871  ‘Seismic change’: Democratic hold-outs rush to...      D\n",
       "570  Former Ukraine prosecutor says he saw no evide...      D\n",
       "79   Trump mocks Bernie Sanders for having a heart ...      D\n",
       "218  AOC pushes national rent control, welfare for ...      R\n",
       "455  Thunberg throws a tantrum. Honestly believes t...      R\n",
       "27   Mike Bloomberg signals he would run if Biden s...      D\n",
       "311     Bring On the Biggest Nothingburger of Them All      R\n",
       "294  Attorney General Bill Barr -- Do Republicans S...      R\n",
       "261  Bernie Sanders Should Be Grateful We Don’t Hav...      R\n",
       "394  Treaty Between the United States of America an...      R\n",
       "131  2020 Presidential Debate to be held at Notre Dame      D\n",
       "736  Clinton predicts 'illegitimate president' Trum...      D\n",
       "313                    Alaska Institutes Opt-In Unions      R"
      ]
     },
     "execution_count": 17,
     "metadata": {},
     "output_type": "execute_result"
    }
   ],
   "source": [
    "politics_reddit.sample(20)"
   ]
  },
  {
   "cell_type": "code",
   "execution_count": 18,
   "metadata": {},
   "outputs": [
    {
     "data": {
      "text/plain": [
       "titles    0\n",
       "marker    0\n",
       "dtype: int64"
      ]
     },
     "execution_count": 18,
     "metadata": {},
     "output_type": "execute_result"
    }
   ],
   "source": [
    "politics_reddit.isna().sum()"
   ]
  },
  {
   "cell_type": "code",
   "execution_count": 19,
   "metadata": {},
   "outputs": [
    {
     "data": {
      "text/plain": [
       "titles    0\n",
       "marker    0\n",
       "dtype: int64"
      ]
     },
     "execution_count": 19,
     "metadata": {},
     "output_type": "execute_result"
    }
   ],
   "source": [
    "politics_reddit.isnull().sum()"
   ]
  },
  {
   "cell_type": "code",
   "execution_count": 20,
   "metadata": {},
   "outputs": [],
   "source": [
    "politics_reddit=politics_reddit.sample(n=politics_reddit.shape[0],replace=True)"
   ]
  },
  {
   "cell_type": "code",
   "execution_count": 21,
   "metadata": {},
   "outputs": [],
   "source": [
    "politics_reddit.reset_index(inplace=True)"
   ]
  },
  {
   "cell_type": "code",
   "execution_count": 22,
   "metadata": {},
   "outputs": [
    {
     "data": {
      "text/html": [
       "<div>\n",
       "<style scoped>\n",
       "    .dataframe tbody tr th:only-of-type {\n",
       "        vertical-align: middle;\n",
       "    }\n",
       "\n",
       "    .dataframe tbody tr th {\n",
       "        vertical-align: top;\n",
       "    }\n",
       "\n",
       "    .dataframe thead th {\n",
       "        text-align: right;\n",
       "    }\n",
       "</style>\n",
       "<table border=\"1\" class=\"dataframe\">\n",
       "  <thead>\n",
       "    <tr style=\"text-align: right;\">\n",
       "      <th></th>\n",
       "      <th>titles</th>\n",
       "      <th>marker</th>\n",
       "    </tr>\n",
       "  </thead>\n",
       "  <tbody>\n",
       "    <tr>\n",
       "      <td>0</td>\n",
       "      <td>Elizabeth Warren is Officially Leading the 202...</td>\n",
       "      <td>D</td>\n",
       "    </tr>\n",
       "    <tr>\n",
       "      <td>1</td>\n",
       "      <td>Joe Biden: Trump won’t destroy me, and he won’...</td>\n",
       "      <td>D</td>\n",
       "    </tr>\n",
       "    <tr>\n",
       "      <td>2</td>\n",
       "      <td>Tucker Carlson attacks the awful Shep Smith, a...</td>\n",
       "      <td>R</td>\n",
       "    </tr>\n",
       "    <tr>\n",
       "      <td>3</td>\n",
       "      <td>How California is using the courts to fight th...</td>\n",
       "      <td>D</td>\n",
       "    </tr>\n",
       "    <tr>\n",
       "      <td>4</td>\n",
       "      <td>Adam Schiff has 2 aides who worked with whistl...</td>\n",
       "      <td>R</td>\n",
       "    </tr>\n",
       "  </tbody>\n",
       "</table>\n",
       "</div>"
      ],
      "text/plain": [
       "                                              titles marker\n",
       "0  Elizabeth Warren is Officially Leading the 202...      D\n",
       "1  Joe Biden: Trump won’t destroy me, and he won’...      D\n",
       "2  Tucker Carlson attacks the awful Shep Smith, a...      R\n",
       "3  How California is using the courts to fight th...      D\n",
       "4  Adam Schiff has 2 aides who worked with whistl...      R"
      ]
     },
     "execution_count": 22,
     "metadata": {},
     "output_type": "execute_result"
    }
   ],
   "source": [
    "politics_reddit.drop(columns='index',inplace=True)\n",
    "politics_reddit.head()"
   ]
  },
  {
   "cell_type": "code",
   "execution_count": 23,
   "metadata": {},
   "outputs": [],
   "source": [
    "politics_reddit.drop_duplicates(keep='first',inplace=True)\n",
    "politics_reddit.reset_index(inplace=True)"
   ]
  },
  {
   "cell_type": "code",
   "execution_count": 24,
   "metadata": {},
   "outputs": [
    {
     "data": {
      "text/html": [
       "<div>\n",
       "<style scoped>\n",
       "    .dataframe tbody tr th:only-of-type {\n",
       "        vertical-align: middle;\n",
       "    }\n",
       "\n",
       "    .dataframe tbody tr th {\n",
       "        vertical-align: top;\n",
       "    }\n",
       "\n",
       "    .dataframe thead th {\n",
       "        text-align: right;\n",
       "    }\n",
       "</style>\n",
       "<table border=\"1\" class=\"dataframe\">\n",
       "  <thead>\n",
       "    <tr style=\"text-align: right;\">\n",
       "      <th></th>\n",
       "      <th>titles</th>\n",
       "      <th>marker</th>\n",
       "    </tr>\n",
       "  </thead>\n",
       "  <tbody>\n",
       "    <tr>\n",
       "      <td>0</td>\n",
       "      <td>Elizabeth Warren is Officially Leading the 202...</td>\n",
       "      <td>D</td>\n",
       "    </tr>\n",
       "    <tr>\n",
       "      <td>1</td>\n",
       "      <td>Joe Biden: Trump won’t destroy me, and he won’...</td>\n",
       "      <td>D</td>\n",
       "    </tr>\n",
       "    <tr>\n",
       "      <td>2</td>\n",
       "      <td>Tucker Carlson attacks the awful Shep Smith, a...</td>\n",
       "      <td>R</td>\n",
       "    </tr>\n",
       "    <tr>\n",
       "      <td>3</td>\n",
       "      <td>How California is using the courts to fight th...</td>\n",
       "      <td>D</td>\n",
       "    </tr>\n",
       "    <tr>\n",
       "      <td>4</td>\n",
       "      <td>Adam Schiff has 2 aides who worked with whistl...</td>\n",
       "      <td>R</td>\n",
       "    </tr>\n",
       "  </tbody>\n",
       "</table>\n",
       "</div>"
      ],
      "text/plain": [
       "                                              titles marker\n",
       "0  Elizabeth Warren is Officially Leading the 202...      D\n",
       "1  Joe Biden: Trump won’t destroy me, and he won’...      D\n",
       "2  Tucker Carlson attacks the awful Shep Smith, a...      R\n",
       "3  How California is using the courts to fight th...      D\n",
       "4  Adam Schiff has 2 aides who worked with whistl...      R"
      ]
     },
     "execution_count": 24,
     "metadata": {},
     "output_type": "execute_result"
    }
   ],
   "source": [
    "politics_reddit.drop(columns='index',inplace=True)\n",
    "politics_reddit.head()"
   ]
  },
  {
   "cell_type": "code",
   "execution_count": 25,
   "metadata": {},
   "outputs": [],
   "source": [
    "#Add a Vader Vectorizor to add sentiment to words"
   ]
  },
  {
   "cell_type": "code",
   "execution_count": 26,
   "metadata": {},
   "outputs": [
    {
     "data": {
      "text/plain": [
       "'Elizabeth Warren is Officially Leading the 2020 Polls'"
      ]
     },
     "execution_count": 26,
     "metadata": {},
     "output_type": "execute_result"
    }
   ],
   "source": [
    "corpus = list(politics_reddit['titles'])\n",
    "corpus[0]"
   ]
  },
  {
   "cell_type": "code",
   "execution_count": 27,
   "metadata": {},
   "outputs": [],
   "source": [
    "sia=SentimentIntensityAnalyzer()"
   ]
  },
  {
   "cell_type": "code",
   "execution_count": 28,
   "metadata": {},
   "outputs": [
    {
     "data": {
      "text/plain": [
       "{'neg': 0.0, 'neu': 1.0, 'pos': 0.0, 'compound': 0.0}"
      ]
     },
     "execution_count": 28,
     "metadata": {},
     "output_type": "execute_result"
    }
   ],
   "source": [
    "sia.polarity_scores(corpus[4])"
   ]
  },
  {
   "cell_type": "code",
   "execution_count": 29,
   "metadata": {},
   "outputs": [
    {
     "data": {
      "text/html": [
       "<div>\n",
       "<style scoped>\n",
       "    .dataframe tbody tr th:only-of-type {\n",
       "        vertical-align: middle;\n",
       "    }\n",
       "\n",
       "    .dataframe tbody tr th {\n",
       "        vertical-align: top;\n",
       "    }\n",
       "\n",
       "    .dataframe thead th {\n",
       "        text-align: right;\n",
       "    }\n",
       "</style>\n",
       "<table border=\"1\" class=\"dataframe\">\n",
       "  <thead>\n",
       "    <tr style=\"text-align: right;\">\n",
       "      <th></th>\n",
       "      <th>neg</th>\n",
       "      <th>neu</th>\n",
       "      <th>pos</th>\n",
       "      <th>compound</th>\n",
       "    </tr>\n",
       "  </thead>\n",
       "  <tbody>\n",
       "    <tr>\n",
       "      <td>933</td>\n",
       "      <td>0.000</td>\n",
       "      <td>1.000</td>\n",
       "      <td>0.0</td>\n",
       "      <td>0.0000</td>\n",
       "    </tr>\n",
       "    <tr>\n",
       "      <td>934</td>\n",
       "      <td>0.000</td>\n",
       "      <td>1.000</td>\n",
       "      <td>0.0</td>\n",
       "      <td>0.0000</td>\n",
       "    </tr>\n",
       "    <tr>\n",
       "      <td>935</td>\n",
       "      <td>0.452</td>\n",
       "      <td>0.548</td>\n",
       "      <td>0.0</td>\n",
       "      <td>-0.5106</td>\n",
       "    </tr>\n",
       "    <tr>\n",
       "      <td>936</td>\n",
       "      <td>0.000</td>\n",
       "      <td>1.000</td>\n",
       "      <td>0.0</td>\n",
       "      <td>0.0000</td>\n",
       "    </tr>\n",
       "    <tr>\n",
       "      <td>937</td>\n",
       "      <td>0.182</td>\n",
       "      <td>0.818</td>\n",
       "      <td>0.0</td>\n",
       "      <td>-0.4404</td>\n",
       "    </tr>\n",
       "  </tbody>\n",
       "</table>\n",
       "</div>"
      ],
      "text/plain": [
       "       neg    neu  pos  compound\n",
       "933  0.000  1.000  0.0    0.0000\n",
       "934  0.000  1.000  0.0    0.0000\n",
       "935  0.452  0.548  0.0   -0.5106\n",
       "936  0.000  1.000  0.0    0.0000\n",
       "937  0.182  0.818  0.0   -0.4404"
      ]
     },
     "execution_count": 29,
     "metadata": {},
     "output_type": "execute_result"
    }
   ],
   "source": [
    "all_scores=[]\n",
    "for title in corpus:\n",
    "    scores=sia.polarity_scores(title)\n",
    "    all_scores.append(scores)\n",
    "df=pd.DataFrame(all_scores)\n",
    "df.tail()"
   ]
  },
  {
   "cell_type": "code",
   "execution_count": 30,
   "metadata": {},
   "outputs": [
    {
     "data": {
      "text/html": [
       "<div>\n",
       "<style scoped>\n",
       "    .dataframe tbody tr th:only-of-type {\n",
       "        vertical-align: middle;\n",
       "    }\n",
       "\n",
       "    .dataframe tbody tr th {\n",
       "        vertical-align: top;\n",
       "    }\n",
       "\n",
       "    .dataframe thead th {\n",
       "        text-align: right;\n",
       "    }\n",
       "</style>\n",
       "<table border=\"1\" class=\"dataframe\">\n",
       "  <thead>\n",
       "    <tr style=\"text-align: right;\">\n",
       "      <th></th>\n",
       "      <th>titles</th>\n",
       "      <th>marker</th>\n",
       "      <th>neg</th>\n",
       "      <th>neu</th>\n",
       "      <th>pos</th>\n",
       "      <th>compound</th>\n",
       "    </tr>\n",
       "  </thead>\n",
       "  <tbody>\n",
       "    <tr>\n",
       "      <td>0</td>\n",
       "      <td>Elizabeth Warren is Officially Leading the 202...</td>\n",
       "      <td>D</td>\n",
       "      <td>0.000</td>\n",
       "      <td>1.000</td>\n",
       "      <td>0.0</td>\n",
       "      <td>0.0000</td>\n",
       "    </tr>\n",
       "    <tr>\n",
       "      <td>1</td>\n",
       "      <td>Joe Biden: Trump won’t destroy me, and he won’...</td>\n",
       "      <td>D</td>\n",
       "      <td>0.196</td>\n",
       "      <td>0.804</td>\n",
       "      <td>0.0</td>\n",
       "      <td>-0.8750</td>\n",
       "    </tr>\n",
       "    <tr>\n",
       "      <td>2</td>\n",
       "      <td>Tucker Carlson attacks the awful Shep Smith, a...</td>\n",
       "      <td>R</td>\n",
       "      <td>0.312</td>\n",
       "      <td>0.688</td>\n",
       "      <td>0.0</td>\n",
       "      <td>-0.7096</td>\n",
       "    </tr>\n",
       "    <tr>\n",
       "      <td>3</td>\n",
       "      <td>How California is using the courts to fight th...</td>\n",
       "      <td>D</td>\n",
       "      <td>0.181</td>\n",
       "      <td>0.819</td>\n",
       "      <td>0.0</td>\n",
       "      <td>-0.4939</td>\n",
       "    </tr>\n",
       "    <tr>\n",
       "      <td>4</td>\n",
       "      <td>Adam Schiff has 2 aides who worked with whistl...</td>\n",
       "      <td>R</td>\n",
       "      <td>0.000</td>\n",
       "      <td>1.000</td>\n",
       "      <td>0.0</td>\n",
       "      <td>0.0000</td>\n",
       "    </tr>\n",
       "  </tbody>\n",
       "</table>\n",
       "</div>"
      ],
      "text/plain": [
       "                                              titles marker    neg    neu  \\\n",
       "0  Elizabeth Warren is Officially Leading the 202...      D  0.000  1.000   \n",
       "1  Joe Biden: Trump won’t destroy me, and he won’...      D  0.196  0.804   \n",
       "2  Tucker Carlson attacks the awful Shep Smith, a...      R  0.312  0.688   \n",
       "3  How California is using the courts to fight th...      D  0.181  0.819   \n",
       "4  Adam Schiff has 2 aides who worked with whistl...      R  0.000  1.000   \n",
       "\n",
       "   pos  compound  \n",
       "0  0.0    0.0000  \n",
       "1  0.0   -0.8750  \n",
       "2  0.0   -0.7096  \n",
       "3  0.0   -0.4939  \n",
       "4  0.0    0.0000  "
      ]
     },
     "execution_count": 30,
     "metadata": {},
     "output_type": "execute_result"
    }
   ],
   "source": [
    "politics_reddit=pd.concat([politics_reddit,df],axis=1)\n",
    "politics_reddit.head()"
   ]
  },
  {
   "cell_type": "code",
   "execution_count": 31,
   "metadata": {},
   "outputs": [
    {
     "data": {
      "text/html": [
       "<div>\n",
       "<style scoped>\n",
       "    .dataframe tbody tr th:only-of-type {\n",
       "        vertical-align: middle;\n",
       "    }\n",
       "\n",
       "    .dataframe tbody tr th {\n",
       "        vertical-align: top;\n",
       "    }\n",
       "\n",
       "    .dataframe thead th {\n",
       "        text-align: right;\n",
       "    }\n",
       "</style>\n",
       "<table border=\"1\" class=\"dataframe\">\n",
       "  <thead>\n",
       "    <tr style=\"text-align: right;\">\n",
       "      <th></th>\n",
       "      <th>titles</th>\n",
       "      <th>marker</th>\n",
       "      <th>neg</th>\n",
       "      <th>neu</th>\n",
       "      <th>pos</th>\n",
       "      <th>compound</th>\n",
       "      <th>title_length</th>\n",
       "    </tr>\n",
       "  </thead>\n",
       "  <tbody>\n",
       "    <tr>\n",
       "      <td>0</td>\n",
       "      <td>Elizabeth Warren is Officially Leading the 202...</td>\n",
       "      <td>D</td>\n",
       "      <td>0.000</td>\n",
       "      <td>1.000</td>\n",
       "      <td>0.0</td>\n",
       "      <td>0.0000</td>\n",
       "      <td>53</td>\n",
       "    </tr>\n",
       "    <tr>\n",
       "      <td>1</td>\n",
       "      <td>Joe Biden: Trump won’t destroy me, and he won’...</td>\n",
       "      <td>D</td>\n",
       "      <td>0.196</td>\n",
       "      <td>0.804</td>\n",
       "      <td>0.0</td>\n",
       "      <td>-0.8750</td>\n",
       "      <td>261</td>\n",
       "    </tr>\n",
       "    <tr>\n",
       "      <td>2</td>\n",
       "      <td>Tucker Carlson attacks the awful Shep Smith, a...</td>\n",
       "      <td>R</td>\n",
       "      <td>0.312</td>\n",
       "      <td>0.688</td>\n",
       "      <td>0.0</td>\n",
       "      <td>-0.7096</td>\n",
       "      <td>104</td>\n",
       "    </tr>\n",
       "    <tr>\n",
       "      <td>3</td>\n",
       "      <td>How California is using the courts to fight th...</td>\n",
       "      <td>D</td>\n",
       "      <td>0.181</td>\n",
       "      <td>0.819</td>\n",
       "      <td>0.0</td>\n",
       "      <td>-0.4939</td>\n",
       "      <td>144</td>\n",
       "    </tr>\n",
       "    <tr>\n",
       "      <td>4</td>\n",
       "      <td>Adam Schiff has 2 aides who worked with whistl...</td>\n",
       "      <td>R</td>\n",
       "      <td>0.000</td>\n",
       "      <td>1.000</td>\n",
       "      <td>0.0</td>\n",
       "      <td>0.0000</td>\n",
       "      <td>68</td>\n",
       "    </tr>\n",
       "  </tbody>\n",
       "</table>\n",
       "</div>"
      ],
      "text/plain": [
       "                                              titles marker    neg    neu  \\\n",
       "0  Elizabeth Warren is Officially Leading the 202...      D  0.000  1.000   \n",
       "1  Joe Biden: Trump won’t destroy me, and he won’...      D  0.196  0.804   \n",
       "2  Tucker Carlson attacks the awful Shep Smith, a...      R  0.312  0.688   \n",
       "3  How California is using the courts to fight th...      D  0.181  0.819   \n",
       "4  Adam Schiff has 2 aides who worked with whistl...      R  0.000  1.000   \n",
       "\n",
       "   pos  compound  title_length  \n",
       "0  0.0    0.0000            53  \n",
       "1  0.0   -0.8750           261  \n",
       "2  0.0   -0.7096           104  \n",
       "3  0.0   -0.4939           144  \n",
       "4  0.0    0.0000            68  "
      ]
     },
     "execution_count": 31,
     "metadata": {},
     "output_type": "execute_result"
    }
   ],
   "source": [
    "politics_reddit['title_length']=politics_reddit['titles'].map(len)\n",
    "politics_reddit.head()"
   ]
  },
  {
   "cell_type": "code",
   "execution_count": 32,
   "metadata": {},
   "outputs": [],
   "source": [
    "#EDA for the sentiments"
   ]
  },
  {
   "cell_type": "code",
   "execution_count": 33,
   "metadata": {},
   "outputs": [
    {
     "data": {
      "text/html": [
       "<div>\n",
       "<style scoped>\n",
       "    .dataframe tbody tr th:only-of-type {\n",
       "        vertical-align: middle;\n",
       "    }\n",
       "\n",
       "    .dataframe tbody tr th {\n",
       "        vertical-align: top;\n",
       "    }\n",
       "\n",
       "    .dataframe thead th {\n",
       "        text-align: right;\n",
       "    }\n",
       "</style>\n",
       "<table border=\"1\" class=\"dataframe\">\n",
       "  <thead>\n",
       "    <tr style=\"text-align: right;\">\n",
       "      <th></th>\n",
       "      <th>neg</th>\n",
       "      <th>neu</th>\n",
       "      <th>pos</th>\n",
       "      <th>compound</th>\n",
       "      <th>title_length</th>\n",
       "    </tr>\n",
       "    <tr>\n",
       "      <th>marker</th>\n",
       "      <th></th>\n",
       "      <th></th>\n",
       "      <th></th>\n",
       "      <th></th>\n",
       "      <th></th>\n",
       "    </tr>\n",
       "  </thead>\n",
       "  <tbody>\n",
       "    <tr>\n",
       "      <td>D</td>\n",
       "      <td>0.096950</td>\n",
       "      <td>0.832441</td>\n",
       "      <td>0.070603</td>\n",
       "      <td>-0.086123</td>\n",
       "      <td>131.858974</td>\n",
       "    </tr>\n",
       "    <tr>\n",
       "      <td>R</td>\n",
       "      <td>0.124376</td>\n",
       "      <td>0.802640</td>\n",
       "      <td>0.072968</td>\n",
       "      <td>-0.100977</td>\n",
       "      <td>79.410828</td>\n",
       "    </tr>\n",
       "  </tbody>\n",
       "</table>\n",
       "</div>"
      ],
      "text/plain": [
       "             neg       neu       pos  compound  title_length\n",
       "marker                                                      \n",
       "D       0.096950  0.832441  0.070603 -0.086123    131.858974\n",
       "R       0.124376  0.802640  0.072968 -0.100977     79.410828"
      ]
     },
     "execution_count": 33,
     "metadata": {},
     "output_type": "execute_result"
    }
   ],
   "source": [
    "politics_reddit.groupby('marker').mean()"
   ]
  },
  {
   "cell_type": "code",
   "execution_count": 92,
   "metadata": {},
   "outputs": [
    {
     "data": {
      "image/png": "[encoded data removed]",
      "text/plain": [
       "<Figure size 432x288 with 1 Axes>"
      ]
     },
     "metadata": {
      "needs_background": "light"
     },
     "output_type": "display_data"
    }
   ],
   "source": [
    "politics_reddit.groupby('marker').mean()[['pos', 'neg']].plot(kind='barh',color=['b','r'])\n",
    "plt.title('Average Positive vs. Negative Score by Political Party');"
   ]
  },
  {
   "cell_type": "code",
   "execution_count": 98,
   "metadata": {},
   "outputs": [
    {
     "data": {
      "image/png": "[encoded data removed]",
      "text/plain": [
       "<Figure size 432x288 with 1 Axes>"
      ]
     },
     "metadata": {
      "needs_background": "light"
     },
     "output_type": "display_data"
    }
   ],
   "source": [
    "sns.boxplot(x='marker',y='compound',data=politics_reddit);\n",
    "plt.title('Compound Scores by Political Party');"
   ]
  },
  {
   "cell_type": "code",
   "execution_count": 36,
   "metadata": {},
   "outputs": [
    {
     "data": {
      "image/png": "[encoded data removed]",
      "text/plain": [
       "<Figure size 432x288 with 1 Axes>"
      ]
     },
     "metadata": {
      "needs_background": "light"
     },
     "output_type": "display_data"
    }
   ],
   "source": [
    "sns.boxplot(x='marker',y='neu',data=politics_reddit);\n",
    "plt.title('Neutral Scores by Political Party');"
   ]
  },
  {
   "cell_type": "code",
   "execution_count": 37,
   "metadata": {},
   "outputs": [
    {
     "data": {
      "image/png": "[encoded data removed]",
      "text/plain": [
       "<Figure size 432x288 with 1 Axes>"
      ]
     },
     "metadata": {
      "needs_background": "light"
     },
     "output_type": "display_data"
    }
   ],
   "source": [
    "sns.boxplot(x='marker',y='pos',data=politics_reddit);\n",
    "plt.title('Positive Scores by Political Party');"
   ]
  },
  {
   "cell_type": "code",
   "execution_count": 38,
   "metadata": {},
   "outputs": [
    {
     "data": {
      "image/png": "[encoded data removed]",
      "text/plain": [
       "<Figure size 432x288 with 1 Axes>"
      ]
     },
     "metadata": {
      "needs_background": "light"
     },
     "output_type": "display_data"
    }
   ],
   "source": [
    "sns.boxplot(x='marker',y='neg',data=politics_reddit);\n",
    "plt.title('Negative Scores by Political Party');"
   ]
  },
  {
   "cell_type": "code",
   "execution_count": 39,
   "metadata": {},
   "outputs": [
    {
     "data": {
      "image/png": "[encoded data removed]",
      "text/plain": [
       "<Figure size 432x288 with 1 Axes>"
      ]
     },
     "metadata": {
      "needs_background": "light"
     },
     "output_type": "display_data"
    }
   ],
   "source": [
    "sns.boxplot(x='marker',y='title_length',data=politics_reddit);\n",
    "plt.title('Title Character Length by Political Party');"
   ]
  },
  {
   "cell_type": "code",
   "execution_count": 40,
   "metadata": {},
   "outputs": [
    {
     "data": {
      "image/png": "[encoded data removed]",
      "text/plain": [
       "<Figure size 360x360 with 1 Axes>"
      ]
     },
     "metadata": {
      "needs_background": "light"
     },
     "output_type": "display_data"
    }
   ],
   "source": [
    "sns.catplot(x='marker',y='pos',data=politics_reddit,kind='violin');\n",
    "plt.title('Positive Scores by Political Party');"
   ]
  },
  {
   "cell_type": "code",
   "execution_count": 41,
   "metadata": {},
   "outputs": [
    {
     "data": {
      "image/png": "[encoded data removed]",
      "text/plain": [
       "<Figure size 360x360 with 1 Axes>"
      ]
     },
     "metadata": {
      "needs_background": "light"
     },
     "output_type": "display_data"
    }
   ],
   "source": [
    "sns.catplot(x='marker',y='neg',data=politics_reddit,kind='violin');\n",
    "plt.title('Negative Scores by Political Party');"
   ]
  },
  {
   "cell_type": "code",
   "execution_count": 42,
   "metadata": {},
   "outputs": [
    {
     "data": {
      "image/png": "[encoded data removed]",
      "text/plain": [
       "<Figure size 360x360 with 1 Axes>"
      ]
     },
     "metadata": {
      "needs_background": "light"
     },
     "output_type": "display_data"
    }
   ],
   "source": [
    "sns.catplot(x='marker',y='neu',data=politics_reddit,kind='violin');\n",
    "plt.title('Neutral Scores by Political Party');"
   ]
  },
  {
   "cell_type": "code",
   "execution_count": 43,
   "metadata": {},
   "outputs": [
    {
     "data": {
      "image/png": "[encoded data removed]",
      "text/plain": [
       "<Figure size 360x360 with 1 Axes>"
      ]
     },
     "metadata": {
      "needs_background": "light"
     },
     "output_type": "display_data"
    }
   ],
   "source": [
    "sns.catplot(x='marker',y='compound',data=politics_reddit,kind='violin');\n",
    "plt.title('Compound Scores by Political Party');"
   ]
  },
  {
   "cell_type": "code",
   "execution_count": 90,
   "metadata": {},
   "outputs": [
    {
     "data": {
      "image/png": "[encoded data removed]",
      "text/plain": [
       "<Figure size 360x360 with 1 Axes>"
      ]
     },
     "metadata": {
      "needs_background": "light"
     },
     "output_type": "display_data"
    }
   ],
   "source": [
    "sns.catplot(x='marker',y='title_length',data=politics_reddit,kind='violin');\n",
    "plt.title('Title Character Length Scores by Political Party');"
   ]
  },
  {
   "cell_type": "code",
   "execution_count": 85,
   "metadata": {},
   "outputs": [
    {
     "data": {
      "image/png": "[encoded data removed]",
      "text/plain": [
       "<Figure size 432x288 with 1 Axes>"
      ]
     },
     "metadata": {
      "needs_background": "light"
     },
     "output_type": "display_data"
    }
   ],
   "source": [
    "plt.hist(politics_reddit[politics_reddit['marker']=='R']['neg'], alpha=0.4, density=True, color='r'),\n",
    "plt.hist(politics_reddit[politics_reddit['marker']=='D']['neg'], alpha=0.4, density=True, color='b');\n",
    "plt.title('Negative Rating')\n",
    "plt.xlabel('Rating'),\n",
    "plt.legend(['Republican','Democrat']);"
   ]
  },
  {
   "cell_type": "code",
   "execution_count": 84,
   "metadata": {},
   "outputs": [
    {
     "data": {
      "image/png": "[encoded data removed]",
      "text/plain": [
       "<Figure size 432x288 with 1 Axes>"
      ]
     },
     "metadata": {
      "needs_background": "light"
     },
     "output_type": "display_data"
    }
   ],
   "source": [
    "plt.hist(politics_reddit[politics_reddit['marker']=='R']['neu'], alpha=0.4, density=True, color='r')\n",
    "plt.hist(politics_reddit[politics_reddit['marker']=='D']['neu'], alpha=0.4, density=True, color='b');\n",
    "plt.title('Neutral Rating')\n",
    "plt.xlabel('Rating')\n",
    "plt.legend(['Republican','Democrat']);"
   ]
  },
  {
   "cell_type": "code",
   "execution_count": 83,
   "metadata": {},
   "outputs": [
    {
     "data": {
      "image/png": "[encoded data removed]",
      "text/plain": [
       "<Figure size 432x288 with 1 Axes>"
      ]
     },
     "metadata": {
      "needs_background": "light"
     },
     "output_type": "display_data"
    }
   ],
   "source": [
    "plt.hist(politics_reddit[politics_reddit['marker']=='R']['pos'], alpha=0.4, density=True, color='r')\n",
    "plt.hist(politics_reddit[politics_reddit['marker']=='D']['pos'], alpha=0.4, density=True, color='b');\n",
    "plt.title('Postive Rating')\n",
    "plt.xlabel('Rating')\n",
    "plt.legend(['Republican','Democrat']);"
   ]
  },
  {
   "cell_type": "code",
   "execution_count": 81,
   "metadata": {},
   "outputs": [
    {
     "data": {
      "image/png": "[encoded data removed]",
      "text/plain": [
       "<Figure size 432x288 with 1 Axes>"
      ]
     },
     "metadata": {
      "needs_background": "light"
     },
     "output_type": "display_data"
    }
   ],
   "source": [
    "plt.hist(politics_reddit[politics_reddit['marker']=='R']['compound'], alpha=0.4, density=True, color='r')\n",
    "plt.hist(politics_reddit[politics_reddit['marker']=='D']['compound'], alpha=0.4, density=True, color='b')\n",
    "plt.title('Compound Rating')\n",
    "plt.xlabel('Rating')\n",
    "plt.legend(['Republican','Democrat']);"
   ]
  },
  {
   "cell_type": "code",
   "execution_count": 82,
   "metadata": {},
   "outputs": [
    {
     "data": {
      "image/png": "[encoded data removed]",
      "text/plain": [
       "<Figure size 432x288 with 1 Axes>"
      ]
     },
     "metadata": {
      "needs_background": "light"
     },
     "output_type": "display_data"
    }
   ],
   "source": [
    "plt.hist(politics_reddit[politics_reddit['marker']=='R']['title_length'], alpha=0.4, density=True, color='r')\n",
    "plt.hist(politics_reddit[politics_reddit['marker']=='D']['title_length'], alpha=0.4, density=True, color='b');\n",
    "plt.title('Title Character Length')\n",
    "plt.xlabel('Character Length')\n",
    "plt.legend(['Republican','Democrat']);"
   ]
  },
  {
   "cell_type": "code",
   "execution_count": 50,
   "metadata": {},
   "outputs": [
    {
     "data": {
      "text/html": [
       "<div>\n",
       "<style scoped>\n",
       "    .dataframe tbody tr th:only-of-type {\n",
       "        vertical-align: middle;\n",
       "    }\n",
       "\n",
       "    .dataframe tbody tr th {\n",
       "        vertical-align: top;\n",
       "    }\n",
       "\n",
       "    .dataframe thead th {\n",
       "        text-align: right;\n",
       "    }\n",
       "</style>\n",
       "<table border=\"1\" class=\"dataframe\">\n",
       "  <thead>\n",
       "    <tr style=\"text-align: right;\">\n",
       "      <th></th>\n",
       "      <th>titles</th>\n",
       "      <th>marker</th>\n",
       "      <th>neg</th>\n",
       "      <th>neu</th>\n",
       "      <th>pos</th>\n",
       "      <th>compound</th>\n",
       "      <th>title_length</th>\n",
       "    </tr>\n",
       "  </thead>\n",
       "  <tbody>\n",
       "    <tr>\n",
       "      <td>800</td>\n",
       "      <td>Democrats killing Connecticut</td>\n",
       "      <td>R</td>\n",
       "      <td>0.688</td>\n",
       "      <td>0.312</td>\n",
       "      <td>0.000</td>\n",
       "      <td>-0.6597</td>\n",
       "      <td>29</td>\n",
       "    </tr>\n",
       "    <tr>\n",
       "      <td>396</td>\n",
       "      <td>Nixon: Victim of a Media Riot</td>\n",
       "      <td>R</td>\n",
       "      <td>0.655</td>\n",
       "      <td>0.345</td>\n",
       "      <td>0.000</td>\n",
       "      <td>-0.6908</td>\n",
       "      <td>29</td>\n",
       "    </tr>\n",
       "    <tr>\n",
       "      <td>736</td>\n",
       "      <td>Hillary Clinton: This sickening horror is one ...</td>\n",
       "      <td>D</td>\n",
       "      <td>0.620</td>\n",
       "      <td>0.380</td>\n",
       "      <td>0.000</td>\n",
       "      <td>-0.8689</td>\n",
       "      <td>58</td>\n",
       "    </tr>\n",
       "    <tr>\n",
       "      <td>166</td>\n",
       "      <td>China’s Intimidation Campaign</td>\n",
       "      <td>R</td>\n",
       "      <td>0.583</td>\n",
       "      <td>0.417</td>\n",
       "      <td>0.000</td>\n",
       "      <td>-0.4215</td>\n",
       "      <td>29</td>\n",
       "    </tr>\n",
       "    <tr>\n",
       "      <td>784</td>\n",
       "      <td>Liberals Clarify Their Racism Is Actually Demo...</td>\n",
       "      <td>R</td>\n",
       "      <td>0.577</td>\n",
       "      <td>0.423</td>\n",
       "      <td>0.000</td>\n",
       "      <td>-0.8481</td>\n",
       "      <td>59</td>\n",
       "    </tr>\n",
       "    <tr>\n",
       "      <td>600</td>\n",
       "      <td>EXCLUSIVE: Illegal immigrant accused of gang m...</td>\n",
       "      <td>R</td>\n",
       "      <td>0.573</td>\n",
       "      <td>0.324</td>\n",
       "      <td>0.103</td>\n",
       "      <td>-0.8798</td>\n",
       "      <td>93</td>\n",
       "    </tr>\n",
       "    <tr>\n",
       "      <td>869</td>\n",
       "      <td>For Trump Haters, This Has To Be The Worst Rec...</td>\n",
       "      <td>R</td>\n",
       "      <td>0.558</td>\n",
       "      <td>0.442</td>\n",
       "      <td>0.000</td>\n",
       "      <td>-0.8779</td>\n",
       "      <td>57</td>\n",
       "    </tr>\n",
       "    <tr>\n",
       "      <td>416</td>\n",
       "      <td>Kill with Kindness</td>\n",
       "      <td>D</td>\n",
       "      <td>0.540</td>\n",
       "      <td>0.115</td>\n",
       "      <td>0.345</td>\n",
       "      <td>-0.4019</td>\n",
       "      <td>18</td>\n",
       "    </tr>\n",
       "    <tr>\n",
       "      <td>911</td>\n",
       "      <td>The Saudi's can fight and pay for their own war</td>\n",
       "      <td>R</td>\n",
       "      <td>0.530</td>\n",
       "      <td>0.470</td>\n",
       "      <td>0.000</td>\n",
       "      <td>-0.7845</td>\n",
       "      <td>47</td>\n",
       "    </tr>\n",
       "    <tr>\n",
       "      <td>209</td>\n",
       "      <td>Democrats denounce Trump's trade policies, but...</td>\n",
       "      <td>D</td>\n",
       "      <td>0.524</td>\n",
       "      <td>0.476</td>\n",
       "      <td>0.000</td>\n",
       "      <td>-0.7715</td>\n",
       "      <td>71</td>\n",
       "    </tr>\n",
       "  </tbody>\n",
       "</table>\n",
       "</div>"
      ],
      "text/plain": [
       "                                                titles marker    neg    neu  \\\n",
       "800                      Democrats killing Connecticut      R  0.688  0.312   \n",
       "396                      Nixon: Victim of a Media Riot      R  0.655  0.345   \n",
       "736  Hillary Clinton: This sickening horror is one ...      D  0.620  0.380   \n",
       "166                      China’s Intimidation Campaign      R  0.583  0.417   \n",
       "784  Liberals Clarify Their Racism Is Actually Demo...      R  0.577  0.423   \n",
       "600  EXCLUSIVE: Illegal immigrant accused of gang m...      R  0.573  0.324   \n",
       "869  For Trump Haters, This Has To Be The Worst Rec...      R  0.558  0.442   \n",
       "416                                 Kill with Kindness      D  0.540  0.115   \n",
       "911    The Saudi's can fight and pay for their own war      R  0.530  0.470   \n",
       "209  Democrats denounce Trump's trade policies, but...      D  0.524  0.476   \n",
       "\n",
       "       pos  compound  title_length  \n",
       "800  0.000   -0.6597            29  \n",
       "396  0.000   -0.6908            29  \n",
       "736  0.000   -0.8689            58  \n",
       "166  0.000   -0.4215            29  \n",
       "784  0.000   -0.8481            59  \n",
       "600  0.103   -0.8798            93  \n",
       "869  0.000   -0.8779            57  \n",
       "416  0.345   -0.4019            18  \n",
       "911  0.000   -0.7845            47  \n",
       "209  0.000   -0.7715            71  "
      ]
     },
     "execution_count": 50,
     "metadata": {},
     "output_type": "execute_result"
    }
   ],
   "source": [
    "politics_reddit.sort_values(by='neg',ascending=False).head(10)"
   ]
  },
  {
   "cell_type": "code",
   "execution_count": 51,
   "metadata": {},
   "outputs": [
    {
     "data": {
      "text/html": [
       "<div>\n",
       "<style scoped>\n",
       "    .dataframe tbody tr th:only-of-type {\n",
       "        vertical-align: middle;\n",
       "    }\n",
       "\n",
       "    .dataframe tbody tr th {\n",
       "        vertical-align: top;\n",
       "    }\n",
       "\n",
       "    .dataframe thead th {\n",
       "        text-align: right;\n",
       "    }\n",
       "</style>\n",
       "<table border=\"1\" class=\"dataframe\">\n",
       "  <thead>\n",
       "    <tr style=\"text-align: right;\">\n",
       "      <th></th>\n",
       "      <th>titles</th>\n",
       "      <th>marker</th>\n",
       "      <th>neg</th>\n",
       "      <th>neu</th>\n",
       "      <th>pos</th>\n",
       "      <th>compound</th>\n",
       "      <th>title_length</th>\n",
       "    </tr>\n",
       "  </thead>\n",
       "  <tbody>\n",
       "    <tr>\n",
       "      <td>586</td>\n",
       "      <td>California’s Labor of Love</td>\n",
       "      <td>R</td>\n",
       "      <td>0.000</td>\n",
       "      <td>0.417</td>\n",
       "      <td>0.583</td>\n",
       "      <td>0.6369</td>\n",
       "      <td>26</td>\n",
       "    </tr>\n",
       "    <tr>\n",
       "      <td>675</td>\n",
       "      <td>Ready for Hilary?</td>\n",
       "      <td>R</td>\n",
       "      <td>0.000</td>\n",
       "      <td>0.444</td>\n",
       "      <td>0.556</td>\n",
       "      <td>0.3612</td>\n",
       "      <td>17</td>\n",
       "    </tr>\n",
       "    <tr>\n",
       "      <td>306</td>\n",
       "      <td>Silicon Valley’s Useful Idiots</td>\n",
       "      <td>R</td>\n",
       "      <td>0.000</td>\n",
       "      <td>0.508</td>\n",
       "      <td>0.492</td>\n",
       "      <td>0.4404</td>\n",
       "      <td>30</td>\n",
       "    </tr>\n",
       "    <tr>\n",
       "      <td>617</td>\n",
       "      <td>The Temptation of Intelligence Politicization ...</td>\n",
       "      <td>R</td>\n",
       "      <td>0.000</td>\n",
       "      <td>0.508</td>\n",
       "      <td>0.492</td>\n",
       "      <td>0.7003</td>\n",
       "      <td>66</td>\n",
       "    </tr>\n",
       "    <tr>\n",
       "      <td>56</td>\n",
       "      <td>Trump is Winning the Great Game of American Po...</td>\n",
       "      <td>R</td>\n",
       "      <td>0.000</td>\n",
       "      <td>0.516</td>\n",
       "      <td>0.484</td>\n",
       "      <td>0.8176</td>\n",
       "      <td>62</td>\n",
       "    </tr>\n",
       "    <tr>\n",
       "      <td>740</td>\n",
       "      <td>Here’s why Democrats are winning</td>\n",
       "      <td>D</td>\n",
       "      <td>0.000</td>\n",
       "      <td>0.541</td>\n",
       "      <td>0.459</td>\n",
       "      <td>0.5267</td>\n",
       "      <td>32</td>\n",
       "    </tr>\n",
       "    <tr>\n",
       "      <td>202</td>\n",
       "      <td>Trump, the stable genius!</td>\n",
       "      <td>D</td>\n",
       "      <td>0.000</td>\n",
       "      <td>0.546</td>\n",
       "      <td>0.454</td>\n",
       "      <td>0.3595</td>\n",
       "      <td>25</td>\n",
       "    </tr>\n",
       "    <tr>\n",
       "      <td>466</td>\n",
       "      <td>Russia’s having a pretty good October, thanks ...</td>\n",
       "      <td>D</td>\n",
       "      <td>0.109</td>\n",
       "      <td>0.446</td>\n",
       "      <td>0.446</td>\n",
       "      <td>0.7783</td>\n",
       "      <td>78</td>\n",
       "    </tr>\n",
       "    <tr>\n",
       "      <td>813</td>\n",
       "      <td>Need help learning about democratic values, id...</td>\n",
       "      <td>D</td>\n",
       "      <td>0.000</td>\n",
       "      <td>0.565</td>\n",
       "      <td>0.435</td>\n",
       "      <td>0.6597</td>\n",
       "      <td>60</td>\n",
       "    </tr>\n",
       "    <tr>\n",
       "      <td>47</td>\n",
       "      <td>Do not anger Mark Levin</td>\n",
       "      <td>R</td>\n",
       "      <td>0.000</td>\n",
       "      <td>0.572</td>\n",
       "      <td>0.428</td>\n",
       "      <td>0.4585</td>\n",
       "      <td>23</td>\n",
       "    </tr>\n",
       "  </tbody>\n",
       "</table>\n",
       "</div>"
      ],
      "text/plain": [
       "                                                titles marker    neg    neu  \\\n",
       "586                         California’s Labor of Love      R  0.000  0.417   \n",
       "675                                  Ready for Hilary?      R  0.000  0.444   \n",
       "306                     Silicon Valley’s Useful Idiots      R  0.000  0.508   \n",
       "617  The Temptation of Intelligence Politicization ...      R  0.000  0.508   \n",
       "56   Trump is Winning the Great Game of American Po...      R  0.000  0.516   \n",
       "740                   Here’s why Democrats are winning      D  0.000  0.541   \n",
       "202                          Trump, the stable genius!      D  0.000  0.546   \n",
       "466  Russia’s having a pretty good October, thanks ...      D  0.109  0.446   \n",
       "813  Need help learning about democratic values, id...      D  0.000  0.565   \n",
       "47                             Do not anger Mark Levin      R  0.000  0.572   \n",
       "\n",
       "       pos  compound  title_length  \n",
       "586  0.583    0.6369            26  \n",
       "675  0.556    0.3612            17  \n",
       "306  0.492    0.4404            30  \n",
       "617  0.492    0.7003            66  \n",
       "56   0.484    0.8176            62  \n",
       "740  0.459    0.5267            32  \n",
       "202  0.454    0.3595            25  \n",
       "466  0.446    0.7783            78  \n",
       "813  0.435    0.6597            60  \n",
       "47   0.428    0.4585            23  "
      ]
     },
     "execution_count": 51,
     "metadata": {},
     "output_type": "execute_result"
    }
   ],
   "source": [
    "politics_reddit.sort_values(by='pos',ascending=False).head(10)"
   ]
  },
  {
   "cell_type": "code",
   "execution_count": 52,
   "metadata": {},
   "outputs": [
    {
     "data": {
      "text/html": [
       "<div>\n",
       "<style scoped>\n",
       "    .dataframe tbody tr th:only-of-type {\n",
       "        vertical-align: middle;\n",
       "    }\n",
       "\n",
       "    .dataframe tbody tr th {\n",
       "        vertical-align: top;\n",
       "    }\n",
       "\n",
       "    .dataframe thead th {\n",
       "        text-align: right;\n",
       "    }\n",
       "</style>\n",
       "<table border=\"1\" class=\"dataframe\">\n",
       "  <thead>\n",
       "    <tr style=\"text-align: right;\">\n",
       "      <th></th>\n",
       "      <th>titles</th>\n",
       "      <th>marker</th>\n",
       "      <th>neg</th>\n",
       "      <th>neu</th>\n",
       "      <th>pos</th>\n",
       "      <th>compound</th>\n",
       "      <th>title_length</th>\n",
       "    </tr>\n",
       "  </thead>\n",
       "  <tbody>\n",
       "    <tr>\n",
       "      <td>0</td>\n",
       "      <td>Elizabeth Warren is Officially Leading the 202...</td>\n",
       "      <td>D</td>\n",
       "      <td>0.0</td>\n",
       "      <td>1.0</td>\n",
       "      <td>0.0</td>\n",
       "      <td>0.0</td>\n",
       "      <td>53</td>\n",
       "    </tr>\n",
       "    <tr>\n",
       "      <td>283</td>\n",
       "      <td>Groundhog’ Dems again ‘left’ behind</td>\n",
       "      <td>R</td>\n",
       "      <td>0.0</td>\n",
       "      <td>1.0</td>\n",
       "      <td>0.0</td>\n",
       "      <td>0.0</td>\n",
       "      <td>35</td>\n",
       "    </tr>\n",
       "    <tr>\n",
       "      <td>690</td>\n",
       "      <td>Biden:Refuse Snowden assylum or face consequen...</td>\n",
       "      <td>R</td>\n",
       "      <td>0.0</td>\n",
       "      <td>1.0</td>\n",
       "      <td>0.0</td>\n",
       "      <td>0.0</td>\n",
       "      <td>50</td>\n",
       "    </tr>\n",
       "    <tr>\n",
       "      <td>299</td>\n",
       "      <td>Fox’s Chris Wallace: Ukraine Envoy’s Statement...</td>\n",
       "      <td>D</td>\n",
       "      <td>0.0</td>\n",
       "      <td>1.0</td>\n",
       "      <td>0.0</td>\n",
       "      <td>0.0</td>\n",
       "      <td>95</td>\n",
       "    </tr>\n",
       "    <tr>\n",
       "      <td>692</td>\n",
       "      <td>U.S.–Israel Alliance: America Cannot Sacrifice...</td>\n",
       "      <td>R</td>\n",
       "      <td>0.0</td>\n",
       "      <td>1.0</td>\n",
       "      <td>0.0</td>\n",
       "      <td>0.0</td>\n",
       "      <td>71</td>\n",
       "    </tr>\n",
       "    <tr>\n",
       "      <td>294</td>\n",
       "      <td>Justin Trudeau: Identity-Politics Hypocrite</td>\n",
       "      <td>R</td>\n",
       "      <td>0.0</td>\n",
       "      <td>1.0</td>\n",
       "      <td>0.0</td>\n",
       "      <td>0.0</td>\n",
       "      <td>43</td>\n",
       "    </tr>\n",
       "    <tr>\n",
       "      <td>693</td>\n",
       "      <td>House Barrels Toward Impeachment Decisions as ...</td>\n",
       "      <td>D</td>\n",
       "      <td>0.0</td>\n",
       "      <td>1.0</td>\n",
       "      <td>0.0</td>\n",
       "      <td>0.0</td>\n",
       "      <td>76</td>\n",
       "    </tr>\n",
       "    <tr>\n",
       "      <td>696</td>\n",
       "      <td>New IBD/TIPP matchup poll: National General El...</td>\n",
       "      <td>D</td>\n",
       "      <td>0.0</td>\n",
       "      <td>1.0</td>\n",
       "      <td>0.0</td>\n",
       "      <td>0.0</td>\n",
       "      <td>166</td>\n",
       "    </tr>\n",
       "    <tr>\n",
       "      <td>288</td>\n",
       "      <td>Where can I watch Tuesday's debate?</td>\n",
       "      <td>D</td>\n",
       "      <td>0.0</td>\n",
       "      <td>1.0</td>\n",
       "      <td>0.0</td>\n",
       "      <td>0.0</td>\n",
       "      <td>35</td>\n",
       "    </tr>\n",
       "    <tr>\n",
       "      <td>287</td>\n",
       "      <td>Warren announces $10 million-plus ad buy in ea...</td>\n",
       "      <td>D</td>\n",
       "      <td>0.0</td>\n",
       "      <td>1.0</td>\n",
       "      <td>0.0</td>\n",
       "      <td>0.0</td>\n",
       "      <td>56</td>\n",
       "    </tr>\n",
       "  </tbody>\n",
       "</table>\n",
       "</div>"
      ],
      "text/plain": [
       "                                                titles marker  neg  neu  pos  \\\n",
       "0    Elizabeth Warren is Officially Leading the 202...      D  0.0  1.0  0.0   \n",
       "283                Groundhog’ Dems again ‘left’ behind      R  0.0  1.0  0.0   \n",
       "690  Biden:Refuse Snowden assylum or face consequen...      R  0.0  1.0  0.0   \n",
       "299  Fox’s Chris Wallace: Ukraine Envoy’s Statement...      D  0.0  1.0  0.0   \n",
       "692  U.S.–Israel Alliance: America Cannot Sacrifice...      R  0.0  1.0  0.0   \n",
       "294        Justin Trudeau: Identity-Politics Hypocrite      R  0.0  1.0  0.0   \n",
       "693  House Barrels Toward Impeachment Decisions as ...      D  0.0  1.0  0.0   \n",
       "696  New IBD/TIPP matchup poll: National General El...      D  0.0  1.0  0.0   \n",
       "288                Where can I watch Tuesday's debate?      D  0.0  1.0  0.0   \n",
       "287  Warren announces $10 million-plus ad buy in ea...      D  0.0  1.0  0.0   \n",
       "\n",
       "     compound  title_length  \n",
       "0         0.0            53  \n",
       "283       0.0            35  \n",
       "690       0.0            50  \n",
       "299       0.0            95  \n",
       "692       0.0            71  \n",
       "294       0.0            43  \n",
       "693       0.0            76  \n",
       "696       0.0           166  \n",
       "288       0.0            35  \n",
       "287       0.0            56  "
      ]
     },
     "execution_count": 52,
     "metadata": {},
     "output_type": "execute_result"
    }
   ],
   "source": [
    "politics_reddit.sort_values(by='neu',ascending=False).head(10)"
   ]
  },
  {
   "cell_type": "code",
   "execution_count": 53,
   "metadata": {},
   "outputs": [
    {
     "data": {
      "text/html": [
       "<div>\n",
       "<style scoped>\n",
       "    .dataframe tbody tr th:only-of-type {\n",
       "        vertical-align: middle;\n",
       "    }\n",
       "\n",
       "    .dataframe tbody tr th {\n",
       "        vertical-align: top;\n",
       "    }\n",
       "\n",
       "    .dataframe thead th {\n",
       "        text-align: right;\n",
       "    }\n",
       "</style>\n",
       "<table border=\"1\" class=\"dataframe\">\n",
       "  <thead>\n",
       "    <tr style=\"text-align: right;\">\n",
       "      <th></th>\n",
       "      <th>titles</th>\n",
       "      <th>marker</th>\n",
       "      <th>neg</th>\n",
       "      <th>neu</th>\n",
       "      <th>pos</th>\n",
       "      <th>compound</th>\n",
       "      <th>title_length</th>\n",
       "    </tr>\n",
       "  </thead>\n",
       "  <tbody>\n",
       "    <tr>\n",
       "      <td>906</td>\n",
       "      <td>Touching moment Donald Trump hugs wounded Afgh...</td>\n",
       "      <td>R</td>\n",
       "      <td>0.000</td>\n",
       "      <td>0.590</td>\n",
       "      <td>0.410</td>\n",
       "      <td>0.9169</td>\n",
       "      <td>155</td>\n",
       "    </tr>\n",
       "    <tr>\n",
       "      <td>76</td>\n",
       "      <td>John Delaney: It is wrong to think that the wa...</td>\n",
       "      <td>D</td>\n",
       "      <td>0.090</td>\n",
       "      <td>0.606</td>\n",
       "      <td>0.304</td>\n",
       "      <td>0.9022</td>\n",
       "      <td>290</td>\n",
       "    </tr>\n",
       "    <tr>\n",
       "      <td>812</td>\n",
       "      <td>Bernie Sanders on Twitter- It's National Voter...</td>\n",
       "      <td>D</td>\n",
       "      <td>0.000</td>\n",
       "      <td>0.735</td>\n",
       "      <td>0.265</td>\n",
       "      <td>0.8801</td>\n",
       "      <td>245</td>\n",
       "    </tr>\n",
       "    <tr>\n",
       "      <td>742</td>\n",
       "      <td>This Is Absolutely AMAZING !!!... Watch As Thi...</td>\n",
       "      <td>R</td>\n",
       "      <td>0.000</td>\n",
       "      <td>0.749</td>\n",
       "      <td>0.251</td>\n",
       "      <td>0.8760</td>\n",
       "      <td>171</td>\n",
       "    </tr>\n",
       "    <tr>\n",
       "      <td>200</td>\n",
       "      <td>Joe Biden on Twitter: Dr. Jill Biden and I are...</td>\n",
       "      <td>D</td>\n",
       "      <td>0.000</td>\n",
       "      <td>0.845</td>\n",
       "      <td>0.155</td>\n",
       "      <td>0.8402</td>\n",
       "      <td>293</td>\n",
       "    </tr>\n",
       "    <tr>\n",
       "      <td>327</td>\n",
       "      <td>Hillary Clinton: The president of the United S...</td>\n",
       "      <td>D</td>\n",
       "      <td>0.133</td>\n",
       "      <td>0.558</td>\n",
       "      <td>0.308</td>\n",
       "      <td>0.8274</td>\n",
       "      <td>249</td>\n",
       "    </tr>\n",
       "    <tr>\n",
       "      <td>56</td>\n",
       "      <td>Trump is Winning the Great Game of American Po...</td>\n",
       "      <td>R</td>\n",
       "      <td>0.000</td>\n",
       "      <td>0.516</td>\n",
       "      <td>0.484</td>\n",
       "      <td>0.8176</td>\n",
       "      <td>62</td>\n",
       "    </tr>\n",
       "    <tr>\n",
       "      <td>519</td>\n",
       "      <td>House Freedom Caucus Chair introduces motion t...</td>\n",
       "      <td>R</td>\n",
       "      <td>0.000</td>\n",
       "      <td>0.767</td>\n",
       "      <td>0.233</td>\n",
       "      <td>0.8074</td>\n",
       "      <td>186</td>\n",
       "    </tr>\n",
       "    <tr>\n",
       "      <td>57</td>\n",
       "      <td>Rick Wilson: \"You're about to find out.\" -- Do...</td>\n",
       "      <td>D</td>\n",
       "      <td>0.035</td>\n",
       "      <td>0.808</td>\n",
       "      <td>0.156</td>\n",
       "      <td>0.8016</td>\n",
       "      <td>308</td>\n",
       "    </tr>\n",
       "    <tr>\n",
       "      <td>777</td>\n",
       "      <td>How Democrats can build support for impeachmen...</td>\n",
       "      <td>D</td>\n",
       "      <td>0.000</td>\n",
       "      <td>0.704</td>\n",
       "      <td>0.296</td>\n",
       "      <td>0.7906</td>\n",
       "      <td>141</td>\n",
       "    </tr>\n",
       "  </tbody>\n",
       "</table>\n",
       "</div>"
      ],
      "text/plain": [
       "                                                titles marker    neg    neu  \\\n",
       "906  Touching moment Donald Trump hugs wounded Afgh...      R  0.000  0.590   \n",
       "76   John Delaney: It is wrong to think that the wa...      D  0.090  0.606   \n",
       "812  Bernie Sanders on Twitter- It's National Voter...      D  0.000  0.735   \n",
       "742  This Is Absolutely AMAZING !!!... Watch As Thi...      R  0.000  0.749   \n",
       "200  Joe Biden on Twitter: Dr. Jill Biden and I are...      D  0.000  0.845   \n",
       "327  Hillary Clinton: The president of the United S...      D  0.133  0.558   \n",
       "56   Trump is Winning the Great Game of American Po...      R  0.000  0.516   \n",
       "519  House Freedom Caucus Chair introduces motion t...      R  0.000  0.767   \n",
       "57   Rick Wilson: \"You're about to find out.\" -- Do...      D  0.035  0.808   \n",
       "777  How Democrats can build support for impeachmen...      D  0.000  0.704   \n",
       "\n",
       "       pos  compound  title_length  \n",
       "906  0.410    0.9169           155  \n",
       "76   0.304    0.9022           290  \n",
       "812  0.265    0.8801           245  \n",
       "742  0.251    0.8760           171  \n",
       "200  0.155    0.8402           293  \n",
       "327  0.308    0.8274           249  \n",
       "56   0.484    0.8176            62  \n",
       "519  0.233    0.8074           186  \n",
       "57   0.156    0.8016           308  \n",
       "777  0.296    0.7906           141  "
      ]
     },
     "execution_count": 53,
     "metadata": {},
     "output_type": "execute_result"
    }
   ],
   "source": [
    "politics_reddit.sort_values(by='compound',ascending=False).head(10)"
   ]
  },
  {
   "cell_type": "code",
   "execution_count": 54,
   "metadata": {},
   "outputs": [
    {
     "data": {
      "text/html": [
       "<div>\n",
       "<style scoped>\n",
       "    .dataframe tbody tr th:only-of-type {\n",
       "        vertical-align: middle;\n",
       "    }\n",
       "\n",
       "    .dataframe tbody tr th {\n",
       "        vertical-align: top;\n",
       "    }\n",
       "\n",
       "    .dataframe thead th {\n",
       "        text-align: right;\n",
       "    }\n",
       "</style>\n",
       "<table border=\"1\" class=\"dataframe\">\n",
       "  <thead>\n",
       "    <tr style=\"text-align: right;\">\n",
       "      <th></th>\n",
       "      <th>titles</th>\n",
       "      <th>marker</th>\n",
       "      <th>neg</th>\n",
       "      <th>neu</th>\n",
       "      <th>pos</th>\n",
       "      <th>compound</th>\n",
       "      <th>title_length</th>\n",
       "    </tr>\n",
       "  </thead>\n",
       "  <tbody>\n",
       "    <tr>\n",
       "      <td>57</td>\n",
       "      <td>Rick Wilson: \"You're about to find out.\" -- Do...</td>\n",
       "      <td>D</td>\n",
       "      <td>0.035</td>\n",
       "      <td>0.808</td>\n",
       "      <td>0.156</td>\n",
       "      <td>0.8016</td>\n",
       "      <td>308</td>\n",
       "    </tr>\n",
       "    <tr>\n",
       "      <td>720</td>\n",
       "      <td>Mimi Rocah on Twitter: \"If US has legit need t...</td>\n",
       "      <td>D</td>\n",
       "      <td>0.000</td>\n",
       "      <td>0.918</td>\n",
       "      <td>0.082</td>\n",
       "      <td>0.4939</td>\n",
       "      <td>303</td>\n",
       "    </tr>\n",
       "    <tr>\n",
       "      <td>787</td>\n",
       "      <td>Joe Biden on Twitter: President Trump betrayed...</td>\n",
       "      <td>D</td>\n",
       "      <td>0.213</td>\n",
       "      <td>0.637</td>\n",
       "      <td>0.150</td>\n",
       "      <td>-0.7184</td>\n",
       "      <td>301</td>\n",
       "    </tr>\n",
       "    <tr>\n",
       "      <td>46</td>\n",
       "      <td>Trump Attacks Whistle-Blower’s Sources and All...</td>\n",
       "      <td>D</td>\n",
       "      <td>0.152</td>\n",
       "      <td>0.848</td>\n",
       "      <td>0.000</td>\n",
       "      <td>-0.7579</td>\n",
       "      <td>300</td>\n",
       "    </tr>\n",
       "    <tr>\n",
       "      <td>840</td>\n",
       "      <td>Trump allies pressed Ukraine over gas firm: Th...</td>\n",
       "      <td>D</td>\n",
       "      <td>0.025</td>\n",
       "      <td>0.938</td>\n",
       "      <td>0.037</td>\n",
       "      <td>0.1531</td>\n",
       "      <td>300</td>\n",
       "    </tr>\n",
       "    <tr>\n",
       "      <td>167</td>\n",
       "      <td>Rick Wilson: \"Start thinking about the fact th...</td>\n",
       "      <td>D</td>\n",
       "      <td>0.000</td>\n",
       "      <td>0.952</td>\n",
       "      <td>0.048</td>\n",
       "      <td>0.3612</td>\n",
       "      <td>300</td>\n",
       "    </tr>\n",
       "    <tr>\n",
       "      <td>691</td>\n",
       "      <td>Trump Urged Top Aide to Help Giuliani Client F...</td>\n",
       "      <td>D</td>\n",
       "      <td>0.206</td>\n",
       "      <td>0.613</td>\n",
       "      <td>0.181</td>\n",
       "      <td>-0.1280</td>\n",
       "      <td>300</td>\n",
       "    </tr>\n",
       "    <tr>\n",
       "      <td>930</td>\n",
       "      <td>Former Ukraine prosecutor says he saw no evide...</td>\n",
       "      <td>D</td>\n",
       "      <td>0.088</td>\n",
       "      <td>0.876</td>\n",
       "      <td>0.036</td>\n",
       "      <td>-0.3818</td>\n",
       "      <td>300</td>\n",
       "    </tr>\n",
       "    <tr>\n",
       "      <td>512</td>\n",
       "      <td>Trump’s decision on Syria crystallizes questio...</td>\n",
       "      <td>D</td>\n",
       "      <td>0.047</td>\n",
       "      <td>0.842</td>\n",
       "      <td>0.111</td>\n",
       "      <td>0.4767</td>\n",
       "      <td>300</td>\n",
       "    </tr>\n",
       "    <tr>\n",
       "      <td>508</td>\n",
       "      <td>Macabre Video of Fake Trump Shooting Media and...</td>\n",
       "      <td>D</td>\n",
       "      <td>0.277</td>\n",
       "      <td>0.671</td>\n",
       "      <td>0.051</td>\n",
       "      <td>-0.9153</td>\n",
       "      <td>300</td>\n",
       "    </tr>\n",
       "  </tbody>\n",
       "</table>\n",
       "</div>"
      ],
      "text/plain": [
       "                                                titles marker    neg    neu  \\\n",
       "57   Rick Wilson: \"You're about to find out.\" -- Do...      D  0.035  0.808   \n",
       "720  Mimi Rocah on Twitter: \"If US has legit need t...      D  0.000  0.918   \n",
       "787  Joe Biden on Twitter: President Trump betrayed...      D  0.213  0.637   \n",
       "46   Trump Attacks Whistle-Blower’s Sources and All...      D  0.152  0.848   \n",
       "840  Trump allies pressed Ukraine over gas firm: Th...      D  0.025  0.938   \n",
       "167  Rick Wilson: \"Start thinking about the fact th...      D  0.000  0.952   \n",
       "691  Trump Urged Top Aide to Help Giuliani Client F...      D  0.206  0.613   \n",
       "930  Former Ukraine prosecutor says he saw no evide...      D  0.088  0.876   \n",
       "512  Trump’s decision on Syria crystallizes questio...      D  0.047  0.842   \n",
       "508  Macabre Video of Fake Trump Shooting Media and...      D  0.277  0.671   \n",
       "\n",
       "       pos  compound  title_length  \n",
       "57   0.156    0.8016           308  \n",
       "720  0.082    0.4939           303  \n",
       "787  0.150   -0.7184           301  \n",
       "46   0.000   -0.7579           300  \n",
       "840  0.037    0.1531           300  \n",
       "167  0.048    0.3612           300  \n",
       "691  0.181   -0.1280           300  \n",
       "930  0.036   -0.3818           300  \n",
       "512  0.111    0.4767           300  \n",
       "508  0.051   -0.9153           300  "
      ]
     },
     "execution_count": 54,
     "metadata": {},
     "output_type": "execute_result"
    }
   ],
   "source": [
    "politics_reddit.sort_values(by='title_length',ascending=False).head(10)"
   ]
  },
  {
   "cell_type": "code",
   "execution_count": 55,
   "metadata": {},
   "outputs": [],
   "source": [
    "politics_reddit.to_csv('politics_reddit.csv')"
   ]
  }
 ],
 "metadata": {
  "kernelspec": {
   "display_name": "Python 3",
   "language": "python",
   "name": "python3"
  },
  "language_info": {
   "codemirror_mode": {
    "name": "ipython",
    "version": 3
   },
   "file_extension": ".py",
   "mimetype": "text/x-python",
   "name": "python",
   "nbconvert_exporter": "python",
   "pygments_lexer": "ipython3",
   "version": "3.7.3"
  }
 },
 "nbformat": 4,
 "nbformat_minor": 2
}
